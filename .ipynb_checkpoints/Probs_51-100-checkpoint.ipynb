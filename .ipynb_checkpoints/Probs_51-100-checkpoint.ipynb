{
 "cells": [
  {
   "cell_type": "code",
   "execution_count": 1,
   "metadata": {},
   "outputs": [],
   "source": [
    "import sympy\n",
    "import numpy"
   ]
  },
  {
   "cell_type": "markdown",
   "metadata": {},
   "source": [
    "## <font color=green> Problem 51: Prime digit replacements"
   ]
  },
  {
   "cell_type": "markdown",
   "metadata": {},
   "source": [
    "\n",
    "<p>By replacing the 1<sup>st</sup> digit of the 2-digit number *3, it turns out that six of the nine possible values: 13, 23, 43, 53, 73, and 83, are all prime.</p>\n",
    "<p>By replacing the 3<sup>rd</sup> and 4<sup>th</sup> digits of 56**3 with the same digit, this 5-digit number is the first example having seven primes among the ten generated numbers, yielding the family: 56003, 56113, 56333, 56443, 56663, 56773, and 56993. Consequently 56003, being the first member of this family, is the smallest prime with this property.</p>\n",
    "<p>Find the smallest prime which, by replacing part of the number (not necessarily adjacent digits) with the same digit, is part of an eight prime value family.</p>\n"
   ]
  },
  {
   "cell_type": "code",
   "execution_count": 125,
   "metadata": {},
   "outputs": [],
   "source": [
    "import itertools"
   ]
  },
  {
   "cell_type": "code",
   "execution_count": 117,
   "metadata": {},
   "outputs": [],
   "source": [
    "def generate_nums(num, positions):\n",
    "    num = str(num)  \n",
    "    \n",
    "    sub_nums = set()\n",
    "    for dig in range(0,10):\n",
    "        for pos in positions:\n",
    "            num = num[:pos] + str(dig) + num[pos+1:]\n",
    "        sub_nums.add(int(num))\n",
    "    return sub_nums"
   ]
  },
  {
   "cell_type": "code",
   "execution_count": 118,
   "metadata": {},
   "outputs": [
    {
     "data": {
      "text/plain": [
       "{56003, 56103, 56203, 56303, 56403, 56503, 56603, 56703, 56803, 56903}"
      ]
     },
     "execution_count": 118,
     "metadata": {},
     "output_type": "execute_result"
    }
   ],
   "source": [
    "generate_nums(56003,[2])"
   ]
  },
  {
   "cell_type": "code",
   "execution_count": 131,
   "metadata": {},
   "outputs": [],
   "source": [
    "def get_prime_family(num_digits, target_size):\n",
    "    # get list of primes\n",
    "    lower_lim = 10**(num_digits-1)\n",
    "    upper_lim = 10**(num_digits)\n",
    "    list_of_primes = set(sympy.primerange(lower_lim,upper_lim))\n",
    "    \n",
    "    for num_pos in range(1,num_digits): # so max positions which can be substituted are num_digits - 1\n",
    "        for pos in itertools.combinations(range(num_digits),num_pos):\n",
    "            for cur_prime in list(list_of_primes):\n",
    "                generated_nums = generate_nums(cur_prime, pos)\n",
    "                generated_primes = generated_nums.intersection(list_of_primes)\n",
    "                if len(generated_primes) == target_size:\n",
    "                    return generated_primes, pos\n",
    "    print('family not found')\n",
    "    return None, None"
   ]
  },
  {
   "cell_type": "code",
   "execution_count": 134,
   "metadata": {},
   "outputs": [
    {
     "data": {
      "text/plain": [
       "({121313, 222323, 323333, 424343, 525353, 626363, 828383, 929393}, (0, 2, 4))"
      ]
     },
     "execution_count": 134,
     "metadata": {},
     "output_type": "execute_result"
    }
   ],
   "source": [
    "get_prime_family(6,8)"
   ]
  },
  {
   "cell_type": "code",
   "execution_count": 135,
   "metadata": {},
   "outputs": [
    {
     "data": {
      "text/plain": [
       "121313"
      ]
     },
     "execution_count": 135,
     "metadata": {},
     "output_type": "execute_result"
    }
   ],
   "source": [
    "min({121313, 222323, 323333, 424343, 525353, 626363, 828383, 929393})"
   ]
  },
  {
   "cell_type": "markdown",
   "metadata": {},
   "source": [
    "## Permuted multiples"
   ]
  },
  {
   "cell_type": "markdown",
   "metadata": {},
   "source": [
    "\n",
    "<p>It can be seen that the number, 125874, and its double, 251748, contain exactly the same digits, but in a different order.</p>\n",
    "<p>Find the smallest positive integer, <i>x</i>, such that 2<i>x</i>, 3<i>x</i>, 4<i>x</i>, 5<i>x</i>, and 6<i>x</i>, contain the same digits.</p>\n"
   ]
  },
  {
   "cell_type": "code",
   "execution_count": 4,
   "metadata": {},
   "outputs": [],
   "source": [
    "get_digs = lambda num: {x for x in str(num)}"
   ]
  },
  {
   "cell_type": "code",
   "execution_count": 8,
   "metadata": {},
   "outputs": [],
   "source": [
    "def check_same_dig(num1, num2):\n",
    "    return get_digs(num1) == get_digs(num2)"
   ]
  },
  {
   "cell_type": "code",
   "execution_count": 21,
   "metadata": {},
   "outputs": [],
   "source": [
    "def check_permuted_multiples(cur_num):\n",
    "    all_nums = [cur_num * x for x in range(1,7)]\n",
    "    all_sets = [get_digs(x) for x in all_nums]\n",
    "    \n",
    "    return all_sets[0].intersection(*all_sets) == all_sets[0]"
   ]
  },
  {
   "cell_type": "code",
   "execution_count": 29,
   "metadata": {},
   "outputs": [],
   "source": [
    "cur_num = 125874\n",
    "flag = 1\n",
    "while (flag):\n",
    "    if check_permuted_multiples(cur_num):\n",
    "        flag = 0\n",
    "    else:\n",
    "        cur_num += 1"
   ]
  },
  {
   "cell_type": "code",
   "execution_count": 30,
   "metadata": {},
   "outputs": [
    {
     "data": {
      "text/plain": [
       "142857"
      ]
     },
     "execution_count": 30,
     "metadata": {},
     "output_type": "execute_result"
    }
   ],
   "source": [
    "cur_num"
   ]
  },
  {
   "cell_type": "markdown",
   "metadata": {},
   "source": [
    "## Combinatoric selections"
   ]
  },
  {
   "cell_type": "markdown",
   "metadata": {},
   "source": [
    "<p>There are exactly ten ways of selecting three from five, 12345:</p>\n",
    "<p class=\"center\">123, 124, 125, 134, 135, 145, 234, 235, 245, and 345</p>\n",
    "<p>In combinatorics, we use the notation, $\\displaystyle \\binom 5 3 = 10$.</p>\n",
    "<p>In general, $\\displaystyle \\binom n r = \\dfrac{n!}{r!(n-r)!}$, where $r \\le n$, $n! = n \\times (n-1) \\times ... \\times 3 \\times 2 \\times 1$, and $0! = 1$.\n",
    "</p>\n",
    "<p>It is not until $n = 23$, that a value exceeds one-million: $\\displaystyle \\binom {23} {10} = 1144066$.</p>\n",
    "<p>How many, not necessarily distinct, values of $\\displaystyle \\binom n r$ for $1 \\le n \\le 100$, are greater than one-million?</p>"
   ]
  },
  {
   "cell_type": "code",
   "execution_count": 35,
   "metadata": {},
   "outputs": [],
   "source": [
    "lim = 1e6"
   ]
  },
  {
   "cell_type": "code",
   "execution_count": 37,
   "metadata": {},
   "outputs": [],
   "source": [
    "import math"
   ]
  },
  {
   "cell_type": "code",
   "execution_count": 32,
   "metadata": {},
   "outputs": [],
   "source": [
    "from math import factorial"
   ]
  },
  {
   "cell_type": "code",
   "execution_count": 33,
   "metadata": {},
   "outputs": [],
   "source": [
    "def ncr(n,r):\n",
    "    return factorial(n)/(factorial(r)*factorial(n-r))"
   ]
  },
  {
   "cell_type": "code",
   "execution_count": 34,
   "metadata": {},
   "outputs": [
    {
     "data": {
      "text/plain": [
       "1144066.0"
      ]
     },
     "execution_count": 34,
     "metadata": {},
     "output_type": "execute_result"
    }
   ],
   "source": [
    "ncr(23,10)"
   ]
  },
  {
   "cell_type": "code",
   "execution_count": 36,
   "metadata": {},
   "outputs": [
    {
     "data": {
      "text/plain": [
       "1000000.0"
      ]
     },
     "execution_count": 36,
     "metadata": {},
     "output_type": "execute_result"
    }
   ],
   "source": [
    "lim"
   ]
  },
  {
   "cell_type": "code",
   "execution_count": 40,
   "metadata": {},
   "outputs": [],
   "source": [
    "start_n = 23\n",
    "num_vals = 0\n",
    "\n",
    "for n in range(23,101):\n",
    "    for r in range(1,n):\n",
    "        if ncr(n,r) > lim:\n",
    "            num_vals += 1"
   ]
  },
  {
   "cell_type": "code",
   "execution_count": 41,
   "metadata": {},
   "outputs": [
    {
     "data": {
      "text/plain": [
       "4075"
      ]
     },
     "execution_count": 41,
     "metadata": {},
     "output_type": "execute_result"
    }
   ],
   "source": [
    "num_vals"
   ]
  },
  {
   "cell_type": "markdown",
   "metadata": {},
   "source": [
    "## Problem 54: Poker hands"
   ]
  },
  {
   "cell_type": "markdown",
   "metadata": {},
   "source": [
    "<p>In the card game poker, a hand consists of five cards and are ranked, from lowest to highest, in the following way:</p>\n",
    "<ul><li><b>High Card</b>: Highest value card.</li>\n",
    "<li><b>One Pair</b>: Two cards of the same value.</li>\n",
    "<li><b>Two Pairs</b>: Two different pairs.</li>\n",
    "<li><b>Three of a Kind</b>: Three cards of the same value.</li>\n",
    "<li><b>Straight</b>: All cards are consecutive values.</li>\n",
    "<li><b>Flush</b>: All cards of the same suit.</li>\n",
    "<li><b>Full House</b>: Three of a kind and a pair.</li>\n",
    "<li><b>Four of a Kind</b>: Four cards of the same value.</li>\n",
    "<li><b>Straight Flush</b>: All cards are consecutive values of same suit.</li>\n",
    "<li><b>Royal Flush</b>: Ten, Jack, Queen, King, Ace, in same suit.</li>\n",
    "</ul><p>The cards are valued in the order:<br />2, 3, 4, 5, 6, 7, 8, 9, 10, Jack, Queen, King, Ace.</p>\n",
    "<p>If two players have the same ranked hands then the rank made up of the highest value wins; for example, a pair of eights beats a pair of fives (see example 1 below). But if two ranks tie, for example, both players have a pair of queens, then highest cards in each hand are compared (see example 4 below); if the highest cards tie then the next highest cards are compared, and so on.</p>\n",
    "<p>Consider the following five hands dealt to two players:</p>\n",
    "<div class=\"center\">\n",
    "<table><tr><td><b>Hand</b></td><td> </td><td><b>Player 1</b></td><td> </td><td><b>Player 2</b></td><td> </td><td><b>Winner</b></td>\n",
    "</tr><tr><td><b>1</b></td><td> </td><td>5H 5C 6S 7S KD<br /><div class=\"smaller\">Pair of Fives</div></td><td> </td><td>2C 3S 8S 8D TD<br /><div class=\"smaller\">Pair of Eights</div></td><td> </td><td>Player 2</td>\n",
    "</tr><tr><td><b>2</b></td><td> </td><td>5D 8C 9S JS AC<br /><div class=\"smaller\">Highest card Ace</div></td><td> </td><td>2C 5C 7D 8S QH<br /><div class=\"smaller\">Highest card Queen</div></td><td> </td><td>Player 1</td>\n",
    "</tr><tr><td><b>3</b></td><td> </td><td>2D 9C AS AH AC<br /><div class=\"smaller\">Three Aces</div></td><td> </td><td>3D 6D 7D TD QD<br /><div class=\"smaller\">Flush  with Diamonds</div></td><td> </td><td>Player 2</td>\n",
    "</tr><tr><td><b>4</b></td><td> </td><td>4D 6S 9H QH QC<br /><div class=\"smaller\">Pair of Queens<br />Highest card Nine</div></td><td> </td><td>3D 6D 7H QD QS<br /><div class=\"smaller\">Pair of Queens<br />Highest card Seven</div></td><td> </td><td>Player 1</td>\n",
    "</tr><tr><td><b>5</b></td><td> </td><td>2H 2D 4C 4D 4S<br /><div class=\"smaller\">Full House<br />With Three Fours</div></td><td> </td><td>3C 3D 3S 9S 9D<br /><div class=\"smaller\">Full House<br />with Three Threes</div></td><td> </td><td>Player 1</td>\n",
    "</tr></table></div>\n",
    "<p>The file, <a href=\"project/resources/p054_poker.txt\">poker.txt</a>, contains one-thousand random hands dealt to two players. Each line of the file contains ten cards (separated by a single space): the first five are Player 1's cards and the last five are Player 2's cards. You can assume that all hands are valid (no invalid characters or repeated cards), each player's hand is in no specific order, and in each hand there is a clear winner.</p>\n",
    "<p>How many hands does Player 1 win?</p>"
   ]
  },
  {
   "cell_type": "code",
   "execution_count": null,
   "metadata": {},
   "outputs": [],
   "source": []
  }
 ],
 "metadata": {
  "kernelspec": {
   "display_name": "Python 3",
   "language": "python",
   "name": "python3"
  },
  "language_info": {
   "codemirror_mode": {
    "name": "ipython",
    "version": 3
   },
   "file_extension": ".py",
   "mimetype": "text/x-python",
   "name": "python",
   "nbconvert_exporter": "python",
   "pygments_lexer": "ipython3",
   "version": "3.7.7"
  },
  "toc": {
   "base_numbering": 1,
   "nav_menu": {},
   "number_sections": true,
   "sideBar": true,
   "skip_h1_title": false,
   "title_cell": "Table of Contents",
   "title_sidebar": "Contents",
   "toc_cell": false,
   "toc_position": {},
   "toc_section_display": true,
   "toc_window_display": false
  }
 },
 "nbformat": 4,
 "nbformat_minor": 4
}
